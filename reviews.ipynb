{
 "cells": [
  {
   "cell_type": "markdown",
   "id": "45179cef-04bb-4cf5-8a45-8ef1ff37011d",
   "metadata": {},
   "source": [
    "# Import Libraries "
   ]
  },
  {
   "cell_type": "code",
   "execution_count": 2,
   "id": "f430d06c-7fd3-4775-9064-2cd4e3f59f88",
   "metadata": {},
   "outputs": [
    {
     "name": "stdout",
     "output_type": "stream",
     "text": [
      "Libraries used in this project:\n",
      "- Python 3.10.13 (main, Sep 11 2023, 08:21:04) [Clang 14.0.6 ]\n",
      "- NumPy 1.26.4\n",
      "- Matplotlib 3.9.2\n",
      "- scikit-learn 1.5.1\n",
      "- TensorFlow 2.10.0\n",
      "- Keras 2.10.0\n",
      "\n"
     ]
    }
   ],
   "source": [
    "import sys  # Read system parameters.\n",
    "\n",
    "import keras  # Provide a frontend for TensorFlow.\n",
    "import matplotlib as mpl  # Create 2D charts.\n",
    "import matplotlib.pyplot as plt\n",
    "import numpy as np  # Work with multi-dimensional arrays and matrices.\n",
    "import sklearn  # Perform data mining and analysis.\n",
    "import tensorflow  # Train neural networks for deep learning.\n",
    "from keras import datasets\n",
    "from numpy.random import seed\n",
    "\n",
    "\"\"\"Summarize the software libraries used.\"\"\"\n",
    "print(\"Libraries used in this project:\")\n",
    "print(\"- Python {}\".format(sys.version))\n",
    "print(\"- NumPy {}\".format(np.__version__))\n",
    "print(\"- Matplotlib {}\".format(mpl.__version__))\n",
    "print(\"- scikit-learn {}\".format(sklearn.__version__))\n",
    "print(\"- TensorFlow {}\".format(tensorflow.__version__))\n",
    "print(\"- Keras {}\\n\".format(keras.__version__))"
   ]
  }
 ],
 "metadata": {
  "kernelspec": {
   "display_name": "Python 3 (ipykernel)",
   "language": "python",
   "name": "python3"
  },
  "language_info": {
   "codemirror_mode": {
    "name": "ipython",
    "version": 3
   },
   "file_extension": ".py",
   "mimetype": "text/x-python",
   "name": "python",
   "nbconvert_exporter": "python",
   "pygments_lexer": "ipython3",
   "version": "3.10.13"
  }
 },
 "nbformat": 4,
 "nbformat_minor": 5
}
