{
 "cells": [
  {
   "cell_type": "markdown",
   "id": "45179cef-04bb-4cf5-8a45-8ef1ff37011d",
   "metadata": {},
   "source": [
    "# Import Libraries "
   ]
  },
  {
   "cell_type": "code",
   "execution_count": 1,
   "id": "f430d06c-7fd3-4775-9064-2cd4e3f59f88",
   "metadata": {},
   "outputs": [
    {
     "name": "stdout",
     "output_type": "stream",
     "text": [
      "Libraries used in this project:\n",
      "- Python 3.10.13 (main, Sep 11 2023, 08:21:04) [Clang 14.0.6 ]\n",
      "- NumPy 1.26.4\n",
      "- Matplotlib 3.9.2\n",
      "- scikit-learn 1.5.1\n",
      "- TensorFlow 2.10.0\n",
      "- Keras 2.10.0\n",
      "\n"
     ]
    }
   ],
   "source": [
    "import os\n",
    "import sys  # Read system parameters.\n",
    "\n",
    "os.environ[\"TF_CPP_MIN_LOG_LEVEL\"] = \"1\"\n",
    "\n",
    "import keras  # Provide a frontend for TensorFlow.\n",
    "import matplotlib as mpl  # Create 2D charts.\n",
    "import matplotlib.pyplot as plt\n",
    "import numpy as np  # Work with multi-dimensional arrays and matrices.\n",
    "import sklearn  # Perform data mining and analysis.\n",
    "import tensorflow  # Train neural networks for deep learning.\n",
    "from keras import datasets\n",
    "from keras.layers import LSTM, Dense, Embedding, LeakyReLU\n",
    "from keras.models import Sequential\n",
    "from keras.utils import plot_model\n",
    "from keras_preprocessing import sequence\n",
    "from numpy.random import seed\n",
    "from sklearn.model_selection import train_test_split\n",
    "from tensorflow.keras.preprocessing.sequence import pad_sequences\n",
    "\n",
    "\"\"\"Summarize the software libraries used.\"\"\"\n",
    "print(\"Libraries used in this project:\")\n",
    "print(\"- Python {}\".format(sys.version))\n",
    "print(\"- NumPy {}\".format(np.__version__))\n",
    "print(\"- Matplotlib {}\".format(mpl.__version__))\n",
    "print(\"- scikit-learn {}\".format(sklearn.__version__))\n",
    "print(\"- TensorFlow {}\".format(tensorflow.__version__))\n",
    "print(\"- Keras {}\\n\".format(keras.__version__))"
   ]
  },
  {
   "cell_type": "markdown",
   "id": "e2e048fb-6fb6-4915-95dd-73d17c267d5c",
   "metadata": {},
   "source": [
    "# Load the Dataset"
   ]
  },
  {
   "cell_type": "code",
   "execution_count": 2,
   "id": "0c923669-5a48-4d47-82b7-ca191bbb99ec",
   "metadata": {},
   "outputs": [
    {
     "name": "stdout",
     "output_type": "stream",
     "text": [
      "Loaded 25000 training records.\n",
      "Loaded 25000 test records.\n"
     ]
    }
   ],
   "source": [
    "(X_train, y_train), (X_test, y_test) = datasets.imdb.load_data(num_words=10000)\n",
    "print(\"Loaded {} training records.\".format(len(X_train.data)))\n",
    "print(\"Loaded {} test records.\".format(len(X_test.data)))"
   ]
  },
  {
   "cell_type": "markdown",
   "id": "6037e374-d686-47c6-887f-89e03e3391a2",
   "metadata": {},
   "source": [
    "**Spotlights**\n",
    "\n",
    "- This is the complete IMDb movie review dataset consisting of 25000 review records.\n",
    "- This is a Keras version that has been preprocessed, using a different method than previously applied.\n",
    "- Instead of loading the entire dataset, the num_words parameter restricts it to the 10,000 most frequently used words, with any words outside this range represented by a special character."
   ]
  },
  {
   "cell_type": "markdown",
   "id": "385e533a-3a2a-4512-a744-42aef5b6cf92",
   "metadata": {},
   "source": [
    "# Explore the Data"
   ]
  },
  {
   "cell_type": "code",
   "execution_count": 3,
   "id": "17d59073-daec-4cf7-9106-12bfe67f6ce2",
   "metadata": {},
   "outputs": [
    {
     "name": "stdout",
     "output_type": "stream",
     "text": [
      "Features for the last example :\n",
      "\n",
      "[1, 17, 6, 194, 337, 7, 4, 204, 22, 45, 254, 8, 106, 14, 123, 4, 2, 270, 2, 5, 2, 2, 732, 2098, 101, 405, 39, 14, 1034, 4, 1310, 9, 115, 50, 305, 12, 47, 4, 168, 5, 235, 7, 38, 111, 699, 102, 7, 4, 4039, 9245, 9, 24, 6, 78, 1099, 17, 2345, 2, 21, 27, 9685, 6139, 5, 2, 1603, 92, 1183, 4, 1310, 7, 4, 204, 42, 97, 90, 35, 221, 109, 29, 127, 27, 118, 8, 97, 12, 157, 21, 6789, 2, 9, 6, 66, 78, 1099, 4, 631, 1191, 5, 2642, 272, 191, 1070, 6, 7585, 8, 2197, 2, 2, 544, 5, 383, 1271, 848, 1468, 2, 497, 2, 8, 1597, 8778, 2, 21, 60, 27, 239, 9, 43, 8368, 209, 405, 10, 10, 12, 764, 40, 4, 248, 20, 12, 16, 5, 174, 1791, 72, 7, 51, 6, 1739, 22, 4, 204, 131, 9]\n",
      "\n",
      "\n",
      "Label: 0\n"
     ]
    }
   ],
   "source": [
    "\"\"\"Examine the last example's features.\"\"\"\n",
    "\n",
    "print(\"Features for the last example :\\n\")\n",
    "print(X_train[-1])\n",
    "print(\"\\n\")\n",
    "print(\"Label: {}\".format(y_train[-1]))"
   ]
  },
  {
   "cell_type": "markdown",
   "id": "fb3fa5b7-9270-45e2-afa5-c67e929fa697",
   "metadata": {},
   "source": [
    "**Spotlights** \n",
    "\n",
    "- This output highlights the characteristics derived from the last movie review.\n",
    "- Each characteristic corresponds to a word in the review, listed in order of appearance.\n",
    "- The numerical value assigned to each characteristic indicates the word's frequency rank within the dataset, with common words receiving lower numbers and rare words getting higher ones. The label for this example is 0, indicating a negative sentiment in a binary classification scenario, where 1 would denote a positive sentiment."
   ]
  },
  {
   "cell_type": "markdown",
   "id": "95467184-53a6-41c4-82b0-9922733c0445",
   "metadata": {},
   "source": [
    "### Interpret the encoded data accurately to transform sequence values into meaningful text.\n",
    "\n",
    "- The first and second lines will convert each numerical feature into its corresponding word by using a predefined dictionary for the dataset.\n",
    "- In line six, any unfamiliar word will be substituted with a question mark (?).\n",
    "- This process ensures that all numerical values are accurately represented in a more understandable format."
   ]
  },
  {
   "cell_type": "code",
   "execution_count": 4,
   "id": "976df64f-d463-432c-95b1-85c5b06c3e13",
   "metadata": {},
   "outputs": [],
   "source": [
    "index = datasets.imdb.get_word_index()\n",
    "index_dictionary = dict([(value, key) for (key, value) in index.items()])\n",
    "\n",
    "\"\"\"To enhance clarity, substitute any unfamiliar terms with '?'.\"\"\"\n",
    "decoded = \" \".join([index_dictionary.get(i - 3, \"?\") for i in X_train[-1]])"
   ]
  },
  {
   "cell_type": "markdown",
   "id": "754b61cc-0a42-404e-bff1-ee982efea771",
   "metadata": {},
   "source": [
    "### Analyze the Output"
   ]
  },
  {
   "cell_type": "code",
   "execution_count": 5,
   "id": "1fbdcb94-a13f-468d-97cd-bdf7048515af",
   "metadata": {},
   "outputs": [
    {
     "name": "stdout",
     "output_type": "stream",
     "text": [
      "\n",
      " ? as a big fan of the original film it's hard to watch this show the ? set ? and ? ? sets rob any style from this remake the mood is never there instead it has the look and feel of so many television movies of the seventies crenna is not a bad choice as walter ? but his snappy wardrobe and ? apartment don't fit the mood of the original or make him an interesting character he does his best to make it work but samantha ? is a really bad choice the english accent and california looks can't hold a candle to barbara ? ? voice and sex appeal lee j ? tries ? to fashion barton ? but even his performance is just gruff without style br br it feels like the tv movie it was and again reminds me of what a remarkable film the original still is\n"
     ]
    }
   ],
   "source": [
    "print(\"\\n\", decoded)"
   ]
  },
  {
   "cell_type": "markdown",
   "id": "da4e2b3c-0d3a-4f16-9b27-6aebdac7ce07",
   "metadata": {},
   "source": [
    "**Spotlights** \n",
    "\n",
    "Upon reading the text, it is evident why it received a negative label.\n",
    "\n",
    "- By examining the words alongside their numerical rankings, it becomes clear that the order is logical. For instance, the word \"this\" ranks 14, showing it is quite frequent, while \"rob\" ranks 2098, suggesting it is much rarer.\n",
    "- The review's text is presented in a simplified manner, lacking punctuation and capital letters, which makes it easier for the neural network to analyze.\n",
    "- Further text processing could involve eliminating stop words or extracting lemmas, but this level of analysis is adequate for the moment.\n"
   ]
  },
  {
   "cell_type": "markdown",
   "id": "981d4934-ea25-48ef-a011-e488b79ac275",
   "metadata": {},
   "source": [
    "# Examine Some Summary Statistics"
   ]
  },
  {
   "cell_type": "code",
   "execution_count": 6,
   "id": "a2f74489-8d32-4365-afe9-50da5542009e",
   "metadata": {},
   "outputs": [
    {
     "name": "stdout",
     "output_type": "stream",
     "text": [
      "Mean review length (in words): 239\n",
      "Standard deviation (in words): 176\n"
     ]
    }
   ],
   "source": [
    "result = [len(i) for i in X_train]\n",
    "print(\"Mean review length (in words): {:.0f}\".format(np.mean(result)))\n",
    "print(\"Standard deviation (in words): {:.0f}\".format(np.std(result)))"
   ]
  },
  {
   "cell_type": "markdown",
   "id": "2d5bee42-f061-4854-95e8-1c25bb274bfc",
   "metadata": {},
   "source": [
    "**Spotlights** \n",
    "\n",
    "- Reviews typically average about 239 words in length.\n",
    "- The standard deviation is approximately 176 words."
   ]
  },
  {
   "cell_type": "markdown",
   "id": "2302aa9b-21c7-46ed-8578-497b5689e161",
   "metadata": {},
   "source": [
    "### Plot the Average Review Length"
   ]
  },
  {
   "cell_type": "code",
   "execution_count": 7,
   "id": "90e39d5f-9ef6-4323-97ed-f802604c0c84",
   "metadata": {},
   "outputs": [
    {
     "data": {
      "image/png": "[encoded data removed]",
      "text/plain": [
       "<Figure size 1500x200 with 1 Axes>"
      ]
     },
     "metadata": {},
     "output_type": "display_data"
    }
   ],
   "source": [
    "plt.figure(figsize=(15, 2))\n",
    "plt.boxplot(result, vert=False)\n",
    "plt.xlabel(\"Review length (in words)\")\n",
    "plt.show()"
   ]
  },
  {
   "cell_type": "markdown",
   "id": "e9deb000-00a3-457e-8c84-42d15cd579b8",
   "metadata": {},
   "source": [
    "**Spotlights**\n",
    "\n",
    "The box plot supports the mean and standard deviation values, indicating that most reviews fall below 500 words, which will serve as a helpful benchmark for processing the reviews."
   ]
  },
  {
   "cell_type": "markdown",
   "id": "4929dd0d-ee0f-477f-85b0-9a7eb67d7756",
   "metadata": {},
   "source": [
    "# Pad the Data"
   ]
  },
  {
   "cell_type": "code",
   "execution_count": 8,
   "id": "d87fa512-a31c-4d70-ac51-d2a9c99031cd",
   "metadata": {},
   "outputs": [
    {
     "name": "stdout",
     "output_type": "stream",
     "text": [
      "Number of features: 500\n"
     ]
    }
   ],
   "source": [
    "X_train = sequence.pad_sequences(X_train, maxlen=500)\n",
    "X_test = sequence.pad_sequences(X_test, maxlen=500)\n",
    "\n",
    "print(\"Number of features: {}\".format(X_train.shape[1]))"
   ]
  },
  {
   "cell_type": "markdown",
   "id": "f313269f-9ca1-4a1e-82ab-1f9eab2843bc",
   "metadata": {},
   "source": [
    "**Spotlights** \n",
    "\n",
    "This serves to verify that each data example contains a total of 500 features. To put it another way, every review consists of 500 words, whether they are familiar or unfamiliar."
   ]
  },
  {
   "cell_type": "markdown",
   "id": "31d78427-54b4-47be-bc62-562b7ed18bec",
   "metadata": {},
   "source": [
    "# Partition the Dataset \n",
    "\n",
    "Separate the training and validation datasets along with their corresponding labels. \n",
    "\n",
    "To create a validation holdout, the original training dataset will be divide. The initial test set loaded at the beginning will serve as the final test case."
   ]
  },
  {
   "cell_type": "code",
   "execution_count": 9,
   "id": "7de590d9-e322-44bb-bdc9-0bac83a3789a",
   "metadata": {},
   "outputs": [
    {
     "name": "stdout",
     "output_type": "stream",
     "text": [
      "Shape of the training features:         (18750, 500)\n",
      "Shape of the validation features:       (6250, 500)\n",
      "Training labels:           (18750,)\n",
      "Shape of the validation labels:         (6250,)\n"
     ]
    }
   ],
   "source": [
    "X_train, X_val, y_train, y_val = train_test_split(X_train, y_train, random_state=42)\n",
    "\n",
    "print(f\"Shape of the training features:         {X_train.shape}\")\n",
    "print(f\"Shape of the validation features:       {X_val.shape}\")\n",
    "print(f\"Training labels:           {y_train.shape}\")\n",
    "print(f\"Shape of the validation labels:         {y_val.shape}\")"
   ]
  },
  {
   "cell_type": "markdown",
   "id": "404d4677-cc48-4385-9716-a8ae42f1570a",
   "metadata": {},
   "source": [
    "# Create the RNN Architecture\n",
    "\n",
    "This code establishes the framework for the RNN using Keras.\n",
    "\n",
    "**NOTE** on Embedding: Embedding refers to the technique of transforming a word into a unique vector that exists in a multi-dimensional space. These vectors come together to form a comprehensive embedded space for the network. Words that share similar meanings are positioned nearer to each other in this space, enhancing the model's capacity to identify patterns. This approach effectively reduces the complexity of language inputs, which would otherwise necessitate an extensive number of features for every word in a vocabulary. "
   ]
  },
  {
   "cell_type": "code",
   "execution_count": 10,
   "id": "1deac485-4189-489a-89a4-f6f4e6679f4c",
   "metadata": {},
   "outputs": [
    {
     "name": "stdout",
     "output_type": "stream",
     "text": [
      "The RNN structure has been built.\n"
     ]
    }
   ],
   "source": [
    "\"\"\"Create the model as a series of layers.\"\"\"\n",
    "\n",
    "rnn = Sequential()\n",
    "\n",
    "\"\"\"Begin by adding layers sequentially, one at a time.\"\"\"\n",
    "rnn.add(\n",
    "    Embedding(  # Creates an embedded input layer\n",
    "        input_dim=10000,  # Define the size of the input vocabulary (top 10,000 words).\n",
    "        output_dim=100,  # Size of the embedding vector that the model will develop\n",
    "        input_length=500,  # The total length of the input corresponds to the # of words in a review\n",
    "    )\n",
    ")\n",
    "\"\"\"Incorporate a long short-term memory (LSTM) cell as the subsequent layer.\"\"\"\n",
    "rnn.add(LSTM(units=64))  # 64-dimensional LSTM.\n",
    "\n",
    "\"\"\"Introduce a leaky ReLU layer to serve as the activation function\"\"\"\n",
    "rnn.add(LeakyReLU(alpha=0.1))\n",
    "\n",
    "rnn.add(Dense(128, activation=\"linear\"))\n",
    "rnn.add(LeakyReLU(alpha=0.1))\n",
    "\n",
    "\"\"\"Introduces a single output layer employing the sigmoid activation function for binary classification.\"\"\"\n",
    "rnn.add(Dense(1, activation=\"sigmoid\"))  # Dense output layer with sigmoid activation.\n",
    "print(\"The RNN structure has been built.\")"
   ]
  },
  {
   "cell_type": "markdown",
   "id": "e128f0e1-c72f-4d2c-8d5e-d41f2ff43af0",
   "metadata": {},
   "source": [
    "## Set up the Model\n",
    "\n",
    "The compile() method is used to prepare the Keras RNN object created in the earlier code block for the training process. Just like with the CNN developed previously, the 'adam' optimizer will be utilized and the focus will be o on obtaining the model's accuracy score. For the loss function, opt for 'binary_crossentropy', which is akin to 'categorical_crossentropy' but is specifically designed for binary classification tasks."
   ]
  },
  {
   "cell_type": "code",
   "execution_count": 11,
   "id": "8ff35417-acf2-442e-b2d0-3f903c8a800d",
   "metadata": {},
   "outputs": [],
   "source": [
    "rnn.compile(optimizer=\"adam\", loss=\"binary_crossentropy\", metrics=[\"accuracy\"])"
   ]
  },
  {
   "cell_type": "markdown",
   "id": "e247dc07-29b9-4014-b741-146c74192641",
   "metadata": {},
   "source": [
    "## Review the Model's Layers\n",
    "\n",
    "This gives a summary of the architecture of the RNN. Similar to the CNN, each layer is detailed, including its output dimensions and the total number of parameters."
   ]
  },
  {
   "cell_type": "code",
   "execution_count": 12,
   "id": "fddfac5d-a11f-42f9-a7e2-dc732cd965c5",
   "metadata": {},
   "outputs": [
    {
     "name": "stdout",
     "output_type": "stream",
     "text": [
      "Model: \"sequential\"\n",
      "_________________________________________________________________\n",
      " Layer (type)                Output Shape              Param #   \n",
      "=================================================================\n",
      " embedding (Embedding)       (None, 500, 100)          1000000   \n",
      "                                                                 \n",
      " lstm (LSTM)                 (None, 64)                42240     \n",
      "                                                                 \n",
      " leaky_re_lu (LeakyReLU)     (None, 64)                0         \n",
      "                                                                 \n",
      " dense (Dense)               (None, 128)               8320      \n",
      "                                                                 \n",
      " leaky_re_lu_1 (LeakyReLU)   (None, 128)               0         \n",
      "                                                                 \n",
      " dense_1 (Dense)             (None, 1)                 129       \n",
      "                                                                 \n",
      "=================================================================\n",
      "Total params: 1,050,689\n",
      "Trainable params: 1,050,689\n",
      "Non-trainable params: 0\n",
      "_________________________________________________________________\n"
     ]
    }
   ],
   "source": [
    "rnn.summary()"
   ]
  },
  {
   "cell_type": "markdown",
   "id": "2b9e00bd-a397-4615-972f-ed8cea5056aa",
   "metadata": {},
   "source": [
    "### Re-Imagine the Model's Layers\n",
    "\n",
    "The accompanying code will create a more visual representation of the various layers within the RNN, making it easier to understand their configurations and relationships"
   ]
  },
  {
   "cell_type": "code",
   "execution_count": 13,
   "id": "1ad1577d-378f-47f2-94a6-f545754bdd9b",
   "metadata": {},
   "outputs": [
    {
     "data": {
      "image/png": "[encoded data removed]",
      "text/plain": [
       "<IPython.core.display.Image object>"
      ]
     },
     "execution_count": 13,
     "metadata": {},
     "output_type": "execute_result"
    }
   ],
   "source": [
    "plot_model(rnn, show_shapes=True, to_file=\"model2.png\")"
   ]
  },
  {
   "cell_type": "markdown",
   "id": "b5ea0ec1-cb0b-47a5-b084-722a15b9e4c1",
   "metadata": {},
   "source": [
    "## Train the Model Using the Training Data.\n",
    "\n",
    "The next step uses the training dataset in conjunction with the validation set to fit the RNN model. Keras offers a method to monitor the training process in real-time. Observe how the training loss diminishes as time goes on, while the accuracy steadily improves. Training the model for several epochs instead of just one is likely to enhance both its loss score and accuracy."
   ]
  },
  {
   "cell_type": "code",
   "execution_count": 14,
   "id": "d977919e-3ddd-4593-afbd-32678a3c85df",
   "metadata": {},
   "outputs": [
    {
     "name": "stdout",
     "output_type": "stream",
     "text": [
      "Epoch 1/5\n",
      "586/586 [==============================] - 159s 267ms/step - loss: 0.4423 - accuracy: 0.7912 - val_loss: 0.3284 - val_accuracy: 0.8683\n",
      "Epoch 2/5\n",
      "586/586 [==============================] - 152s 260ms/step - loss: 0.2426 - accuracy: 0.9045 - val_loss: 0.3178 - val_accuracy: 0.8757\n",
      "Epoch 3/5\n",
      "586/586 [==============================] - 154s 262ms/step - loss: 0.2091 - accuracy: 0.9184 - val_loss: 0.3844 - val_accuracy: 0.8622\n",
      "Epoch 4/5\n",
      "586/586 [==============================] - 154s 262ms/step - loss: 0.1271 - accuracy: 0.9536 - val_loss: 0.4202 - val_accuracy: 0.8589\n",
      "Epoch 5/5\n",
      "586/586 [==============================] - 151s 259ms/step - loss: 0.1462 - accuracy: 0.9455 - val_loss: 0.4432 - val_accuracy: 0.8579\n"
     ]
    }
   ],
   "source": [
    "trained_rnn_model = rnn.fit(\n",
    "    X_train, y_train, validation_data=(X_val, y_val), epochs=5, verbose=1\n",
    ")"
   ]
  },
  {
   "cell_type": "markdown",
   "id": "38582f8c-c342-4420-8d30-3fbc25e6a039",
   "metadata": {},
   "source": [
    "### Assess the Model's Performance on the Test Data.\n",
    "\n",
    "This stage involves utilizing a labeled test set to evaluate how well the model performs during the final fitting phase. Ideally, the outcomes from the test set should closely match those derived from the validation set."
   ]
  },
  {
   "cell_type": "code",
   "execution_count": 15,
   "id": "98d0b112-9726-44dd-975d-fab3983e80cb",
   "metadata": {},
   "outputs": [],
   "source": [
    "test_data_eval = rnn.evaluate(X_test, y_test, verbose=0)"
   ]
  },
  {
   "cell_type": "markdown",
   "id": "60d26d55-d28b-401b-83c9-7565bd9a83af",
   "metadata": {},
   "source": [
    "### Examine Model Scores"
   ]
  },
  {
   "cell_type": "code",
   "execution_count": 17,
   "id": "dbd42144-4862-4382-8349-0f6aac2d5d09",
   "metadata": {},
   "outputs": [
    {
     "name": "stdout",
     "output_type": "stream",
     "text": [
      "Loss: 0.45\n",
      "Accuracy: 86%\n"
     ]
    }
   ],
   "source": [
    "print(\"Loss: {}\".format(round(test_data_eval[0], 2)))\n",
    "print(\"Accuracy: {:.0f}%\".format(test_data_eval[1] * 100))"
   ]
  },
  {
   "cell_type": "markdown",
   "id": "11f666b7-0b2d-4af3-ae2c-a6cd3bd01b84",
   "metadata": {},
   "source": [
    "**Spotlights** \n",
    "\n",
    "The model achieved a performance rate of 86% on the test set, which matches its performance on the validation set above(val_accuracy)."
   ]
  },
  {
   "cell_type": "markdown",
   "id": "13859820-1772-4fe6-9685-35448a33d87b",
   "metadata": {},
   "source": [
    "## Generate Predictions Based on the Test Data"
   ]
  },
  {
   "cell_type": "code",
   "execution_count": 18,
   "id": "66533305-ac0b-48ab-91e6-ed5700190239",
   "metadata": {},
   "outputs": [
    {
     "name": "stdout",
     "output_type": "stream",
     "text": [
      "4/4 [==============================] - 1s 61ms/step\n",
      "Actual class:    [0 1 1 0 1 1 1 0 0 1]\n",
      "Predicted class: [0 1 1 1 1 1 1 0 1 1]\n"
     ]
    }
   ],
   "source": [
    "\"\"\"Only predict the initial 100 examples.\"\"\"\n",
    "\n",
    "prediction = rnn.predict(X_test[:100])\n",
    "\n",
    "\"\"\"To simplify the probabilities, round them off to either 0 or 1.\"\"\"\n",
    "prediction = np.round(np.ndarray.flatten(prediction))  #\n",
    "prediction = prediction.astype(int)\n",
    "\n",
    "print(\"Actual class:    {}\".format(y_test[:10]))\n",
    "print(\"Predicted class: {}\".format(prediction[:10]))"
   ]
  },
  {
   "cell_type": "markdown",
   "id": "dada846d-3a31-46e4-8c00-1eeac0a8bd1e",
   "metadata": {},
   "source": [
    "**Spotlights** \n",
    "\n",
    "The forecasts correspond closely with the true class labels for the majority of the reviews."
   ]
  },
  {
   "cell_type": "markdown",
   "id": "acf61f16-f045-42c7-ada5-ba36786f17dd",
   "metadata": {},
   "source": [
    "## Examine Reviews"
   ]
  },
  {
   "cell_type": "markdown",
   "id": "28f7af17-5787-424e-98a2-ec8627a96148",
   "metadata": {},
   "source": [
    "### Correctly Classified Review"
   ]
  },
  {
   "cell_type": "code",
   "execution_count": 20,
   "id": "d3e790fe-60e4-45aa-a8b3-a9eee09b8481",
   "metadata": {},
   "outputs": [
    {
     "name": "stdout",
     "output_type": "stream",
     "text": [
      "Actual review sentiment:    negative\n",
      "Predicted review sentiment: negative\n",
      "\n",
      "? ? ? ? ? ? ? ? ? ? ? ? ? ? ? ? ? ? ? ? ? ? ? ? ? ? ? ? ? ? ? ? ? ? ? ? ? ? ? ? ? ? ? ? ? ? ? ? ? ? ? ? ? ? ? ? ? ? ? ? ? ? ? ? ? ? ? ? ? ? ? ? ? ? ? ? ? ? ? ? ? ? ? ? ? ? ? ? ? ? ? ? ? ? ? ? ? ? ? ? ? ? ? ? ? ? ? ? ? ? ? ? ? ? ? ? ? ? ? ? ? ? ? ? ? ? ? ? ? ? ? ? ? ? ? ? ? ? ? ? ? ? ? ? ? ? ? ? ? ? ? ? ? ? ? ? ? ? ? ? ? ? ? ? ? ? ? ? ? ? ? ? ? ? ? ? ? ? ? ? ? ? ? ? ? ? ? ? ? ? ? ? ? ? ? ? ? ? ? ? ? ? ? ? ? ? ? ? ? ? ? ? ? ? ? ? ? ? ? ? ? ? ? ? ? ? ? ? ? ? ? ? ? ? ? ? ? ? ? ? ? ? ? ? ? ? ? ? ? ? ? ? ? ? ? ? ? ? ? ? ? ? ? ? ? ? ? ? ? ? ? ? ? ? ? ? ? ? ? ? ? ? ? ? ? ? ? ? ? ? ? ? ? ? ? ? ? ? ? ? ? ? ? ? ? ? ? ? ? ? ? ? ? ? ? ? ? ? ? ? ? ? ? ? ? ? ? ? ? ? ? ? ? ? ? ? ? ? ? ? ? ? ? ? ? ? ? ? ? ? ? ? ? ? ? ? ? ? ? ? ? ? ? ? ? ? ? ? ? ? ? ? ? ? ? ? ? ? ? ? ? ? ? ? ? ? ? ? ? ? ? ? ? ? ? ? ? ? ? ? ? ? ? ? ? ? ? ? ? ? ? ? ? ? ? ? ? ? ? ? ? ? ? ? ? ? ? ? ? ? ? ? ? please give this one a miss br br ? ? and the rest of the cast rendered terrible performances the show is flat flat flat br br i don't know how michael madison could have allowed this one on his plate he almost seemed to know this wasn't going to work out and his performance was quite ? so all you madison fans give this a miss\n"
     ]
    }
   ],
   "source": [
    "review_labels = [\"negative\", \"positive\"]\n",
    "\n",
    "number_of_examples = 100\n",
    "\n",
    "for index in range(number_of_examples):\n",
    "    if y_test[index] == prediction[index]:\n",
    "        print(\"Actual review sentiment:    {}\".format(review_labels[y_test[index]]))\n",
    "        print(\n",
    "            \"Predicted review sentiment: {}\\n\".format(review_labels[prediction[index]])\n",
    "        )\n",
    "\n",
    "        decoded = \" \".join([index_dictionary.get(x - 3, \"?\") for x in X_test[index]])\n",
    "\n",
    "        print(decoded)\n",
    "\n",
    "        break"
   ]
  },
  {
   "cell_type": "markdown",
   "id": "14a91c2a-6ac3-4e50-a3d4-c20dde69e997",
   "metadata": {},
   "source": [
    "**Spotlights** \n",
    "\n",
    "The model accurately identified this review as negative.\n",
    "\n",
    "- A closer look at the review supports this, as the user clearly expressed their dislike for the movie.\n",
    "- Since the review is under 500 words, it starts with some unclear word values (question marks) for padding."
   ]
  },
  {
   "cell_type": "markdown",
   "id": "ce5f1e68-a602-4fa0-b4b8-5ca21aee4347",
   "metadata": {},
   "source": [
    "### Incorrectly Classified Review"
   ]
  },
  {
   "cell_type": "code",
   "execution_count": 21,
   "id": "a54951d0-068c-413a-bf57-4b89b11872f3",
   "metadata": {},
   "outputs": [
    {
     "name": "stdout",
     "output_type": "stream",
     "text": [
      "Actual review sentiment:    negative\n",
      "Predicted review sentiment: positive\n",
      "\n",
      "? ? ? ? ? ? ? ? ? ? ? ? ? ? ? ? ? ? ? ? ? ? ? ? ? ? ? ? ? ? ? ? ? ? ? ? ? ? ? ? ? ? ? ? ? ? ? ? ? ? ? ? ? ? ? ? ? ? ? ? ? ? ? ? ? ? ? ? ? ? ? ? ? ? ? ? ? ? ? ? ? ? ? ? ? ? ? ? ? ? ? ? ? ? ? ? ? ? ? ? ? ? ? ? ? ? ? ? ? ? ? ? ? ? ? ? ? ? ? ? ? ? ? ? ? ? ? ? ? ? ? ? ? ? ? ? ? ? ? ? ? ? ? ? ? ? ? ? ? ? ? ? ? ? ? ? ? ? ? ? ? ? ? ? ? ? ? ? ? ? ? ? ? ? ? ? ? ? ? ? ? ? ? ? ? ? ? ? ? ? ? ? ? ? ? ? ? ? ? ? ? ? ? ? ? ? ? ? ? ? ? ? ? ? ? ? ? ? ? ? ? ? ? ? ? ? ? ? ? ? ? ? ? ? ? ? ? ? ? ? ? ? ? ? ? ? ? ? ? ? ? ? ? ? ? ? ? ? ? ? ? ? ? ? ? ? ? ? ? ? ? ? ? ? ? ? ? ? ? ? ? ? ? ? ? ? ? ? ? ? ? ? ? ? ? ? ? ? ? ? ? ? ? ? ? ? ? ? ? ? ? ? ? ? ? ? ? ? ? ? i generally love this type of movie however this time i found myself wanting to kick the screen since i can't do that i will just complain about it this was absolutely idiotic the things that happen with the dead kids are very cool but the alive people are absolute idiots i am a grown man pretty big and i can defend myself well however i would not do half the stuff the little girl does in this movie also the mother in this movie is reckless with her children to the point of neglect i wish i wasn't so angry about her and her actions because i would have otherwise enjoyed the flick what a number she was take my advise and fast forward through everything you see her do until the end also is anyone else getting sick of watching movies that are filmed so dark anymore one can hardly see what is being filmed as an audience we are ? involved with the actions on the screen so then why the hell can't we have night vision\n"
     ]
    }
   ],
   "source": [
    "for index in range(number_of_examples):\n",
    "    if y_test[index] != prediction[index]:\n",
    "        print(\"Actual review sentiment:    {}\".format(review_labels[y_test[index]]))\n",
    "        print(\n",
    "            \"Predicted review sentiment: {}\\n\".format(review_labels[prediction[index]])\n",
    "        )\n",
    "\n",
    "        decoded = \" \".join([index_dictionary.get(x - 3, \"?\") for x in X_test[index]])\n",
    "\n",
    "        print(decoded)\n",
    "\n",
    "        break"
   ]
  },
  {
   "cell_type": "markdown",
   "id": "26f7e165-71f7-4711-84de-bc24e3dcb617",
   "metadata": {},
   "source": [
    "**Spotlights** \n",
    "\n",
    "The model mistakenly classified this review as positive, even though it actually conveys a negative sentiment.\n",
    "\n",
    "- Upon examining the review, it's clear that the tone is negative, but there might be clues that led the model to interpret it as positive.\n",
    "- Similar to previous instances, this review has been extended to reach a length of 500 words."
   ]
  }
 ],
 "metadata": {
  "kernelspec": {
   "display_name": "Python 3 (ipykernel)",
   "language": "python",
   "name": "python3"
  },
  "language_info": {
   "codemirror_mode": {
    "name": "ipython",
    "version": 3
   },
   "file_extension": ".py",
   "mimetype": "text/x-python",
   "name": "python",
   "nbconvert_exporter": "python",
   "pygments_lexer": "ipython3",
   "version": "3.10.13"
  }
 },
 "nbformat": 4,
 "nbformat_minor": 5
}
